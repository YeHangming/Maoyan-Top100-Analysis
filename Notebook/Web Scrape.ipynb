{
 "cells": [
  {
   "cell_type": "code",
   "execution_count": 1,
   "id": "exempt-conference",
   "metadata": {},
   "outputs": [],
   "source": [
    "from IPython.display import HTML\n",
    "from bs4 import BeautifulSoup\n",
    "import pandas as pd\n",
    "import time\n",
    "import os\n",
    "import urllib\n",
    "import requests\n",
    "import random\n",
    "import re\n",
    "import numpy as np"
   ]
  },
  {
   "cell_type": "code",
   "execution_count": 2,
   "id": "american-disability",
   "metadata": {},
   "outputs": [],
   "source": [
    "df = pd.DataFrame(columns=['ranking', 'url','title', 'region','time','director','actor',\n",
    "                               '1 week culmulative income','all culmulative income','duration','type','rating'])"
   ]
  },
  {
   "cell_type": "code",
   "execution_count": 2,
   "id": "turkish-calibration",
   "metadata": {},
   "outputs": [],
   "source": [
    "def safeRequest(url):\n",
    "    s = requests.Session()\n",
    "    s.headers = {\n",
    "     \"User-Agent\": \"Mozilla/5.0 (X11; Linux x86_64) AppleWebKit/537.36 (KHTML, like Gecko) Chrome/94.0.4606.81 Safari/537.36\",\n",
    "     \"Cookie\":\"uuid_n_v=v1; uuid=8689C6B03C7111EC9BB8473BB5308EAD38570A4642934DBEAF79D397BB45460E; _csrf=cb357b0e621cddb183cffe459dc9b83d3d21f458b101e6720e940ee02cb4dfb2; _lxsdk_cuid=17cd57404b9c8-05ed84795e2244-57b193e-384000-17cd57404b9c8; _lxsdk=8689C6B03C7111EC9BB8473BB5308EAD38570A4642934DBEAF79D397BB45460E; lt=DGck9TomU47uwSjS58jBh4OpWwUAAAAACw8AAEdxyHbcYZawGn7t37XHtZ5TGJvKYVjQmxcw659dS3A47h33j0la2m4cxbeHs2p5Ig; lt.sig=_W1GYDyvumEXPnkFP1g2-UbxlGo; uid=1540656660; uid.sig=r2cunr-_CSLZRJvakXQeqGCu5tE; Hm_lvt_703e94591e87be68cc8da0da7cbd0be2=1635921812,1635921833,1635921884,1635921889; Hm_lpvt_703e94591e87be68cc8da0da7cbd0be2=1635921889; __mta=244096314.1635921884309.1635921884309.1635921889461.2; _lxsdk_s=17ce48af373-a0b-91c-af2||4\"\n",
    "    }\n",
    "    r = s.request(\"GET\", url=url)\n",
    "    r.encoding = \"utf-8\"\n",
    "    return r.content"
   ]
  },
  {
   "cell_type": "code",
   "execution_count": 3,
   "id": "fitting-diesel",
   "metadata": {
    "tags": []
   },
   "outputs": [],
   "source": [
    "# Test request\n",
    "url = \"https://www.maoyan.com/films/1284164\"\n",
    "content = safeRequest(url)\n",
    "soup = BeautifulSoup(content, 'html.parser')"
   ]
  },
  {
   "cell_type": "code",
   "execution_count": 25,
   "id": "funded-lebanon",
   "metadata": {
    "tags": []
   },
   "outputs": [],
   "source": [
    "def getMovieURL():\n",
    "    url_list = []\n",
    "    home_url = \"https://www.maoyan.com/board/4?offset=\"\n",
    "    movie_url = \"https://www.maoyan.com\"\n",
    "    flag = 0\n",
    "    for i in range(0,100,10):\n",
    "        url=home_url+str(i)\n",
    "        while len(url_list) != i+10:\n",
    "            content = safeRequest(url)\n",
    "            soup = BeautifulSoup(content, 'html.parser')\n",
    "            res_data=soup.findAll(\"dd\")\n",
    "            if len(res_data)==0 and flag==0:\n",
    "                print(\"please view the page for verification\",url)\n",
    "                flag=1\n",
    "            else:\n",
    "                for j in res_data:\n",
    "                    url_list.append(movie_url+str(j.a.get(\"href\")))\n",
    "                    flag=0\n",
    "            time.sleep(random.random()*3)\n",
    "    return url_list"
   ]
  },
  {
   "cell_type": "code",
   "execution_count": 24,
   "id": "becoming-brazilian",
   "metadata": {
    "collapsed": true,
    "jupyter": {
     "outputs_hidden": true
    },
    "tags": []
   },
   "outputs": [
    {
     "name": "stdout",
     "output_type": "stream",
     "text": [
      "please view the page for verification https://www.maoyan.com/board/4?offset=40\n"
     ]
    },
    {
     "data": {
      "text/plain": [
       "100"
      ]
     },
     "execution_count": 24,
     "metadata": {},
     "output_type": "execute_result"
    }
   ],
   "source": [
    "#Test\n",
    "len(getMovieURL())"
   ]
  },
  {
   "cell_type": "code",
   "execution_count": 26,
   "id": "spoken-graphic",
   "metadata": {},
   "outputs": [],
   "source": [
    "def getMName(soup):\n",
    "    return soup.find('h1',class_=\"name\")"
   ]
  },
  {
   "cell_type": "code",
   "execution_count": 20,
   "id": "double-point",
   "metadata": {
    "tags": []
   },
   "outputs": [
    {
     "data": {
      "text/plain": [
       "'少年派的奇幻漂流'"
      ]
     },
     "execution_count": 20,
     "metadata": {},
     "output_type": "execute_result"
    }
   ],
   "source": [
    "#Test\n",
    "getMName(soup).string"
   ]
  },
  {
   "cell_type": "code",
   "execution_count": 27,
   "id": "younger-eclipse",
   "metadata": {},
   "outputs": [],
   "source": [
    "def getMType(soup):\n",
    "    mtype_data = soup.find('li',class_=\"ellipsis\").findAll('a')\n",
    "    mtype=[]\n",
    "    for i in mtype_data:\n",
    "        mtype.append(re.search(r'(\\S+)',i.string).group(0))\n",
    "    return mtype"
   ]
  },
  {
   "cell_type": "code",
   "execution_count": 35,
   "id": "demographic-finder",
   "metadata": {
    "tags": []
   },
   "outputs": [
    {
     "data": {
      "text/plain": [
       "['剧情', '喜剧']"
      ]
     },
     "execution_count": 35,
     "metadata": {},
     "output_type": "execute_result"
    }
   ],
   "source": [
    "#Test\n",
    "getMType(soup)"
   ]
  },
  {
   "cell_type": "code",
   "execution_count": 4,
   "id": "offshore-kentucky",
   "metadata": {},
   "outputs": [],
   "source": [
    "def getMDuration(soup):\n",
    "    tmp = soup.find('div',class_=\"movie-brief-container\").findAll('li')[1].string\n",
    "    duration = re.search(r'\\d{2,3}',tmp).group(0)\n",
    "    return duration"
   ]
  },
  {
   "cell_type": "code",
   "execution_count": 5,
   "id": "proper-conversation",
   "metadata": {
    "tags": []
   },
   "outputs": [
    {
     "data": {
      "text/plain": [
       "'109'"
      ]
     },
     "execution_count": 5,
     "metadata": {},
     "output_type": "execute_result"
    }
   ],
   "source": [
    "#Test\n",
    "getMDuration(soup)"
   ]
  },
  {
   "cell_type": "code",
   "execution_count": 17,
   "id": "chronic-disco",
   "metadata": {},
   "outputs": [],
   "source": [
    "def getMTR(soup):\n",
    "    tmp = soup.find('div',class_=\"movie-brief-container\").findAll('li')[2].string\n",
    "    mtime = re.search(r'.{7,9}\\d',tmp).group(0)\n",
    "    region = re.search(r'\\D*上',tmp).group(0)[:-1]\n",
    "    return mtime, region"
   ]
  },
  {
   "cell_type": "code",
   "execution_count": 18,
   "id": "usual-volunteer",
   "metadata": {},
   "outputs": [
    {
     "data": {
      "text/plain": [
       "('2000-10-26', '意大利')"
      ]
     },
     "execution_count": 18,
     "metadata": {},
     "output_type": "execute_result"
    }
   ],
   "source": [
    "#Test\n",
    "getMTR(soup)"
   ]
  },
  {
   "cell_type": "code",
   "execution_count": 30,
   "id": "composite-brisbane",
   "metadata": {},
   "outputs": [],
   "source": [
    "def getMCelebrity(soup):\n",
    "    director_list = []\n",
    "    actors_list = []\n",
    "\n",
    "    celebrity_data = soup.find('div',class_=\"tab-celebrity tab-content\")\n",
    "    director_num_raw, actor_num_raw = celebrity_data.find_all('span',class_=\"num\")[0:2]\n",
    "    director_num = int(re.search(r'\\d+',director_num_raw.string).group(0))\n",
    "    actor_num = int(re.search(r'\\d+',actor_num_raw.string).group(0))\n",
    "    celebrity_name = celebrity_data.find_all(\"div\",class_=\"info\")[:(director_num+actor_num)]\n",
    "    for i  in range(director_num):\n",
    "        director_list.append(re.search(r'\\w+.*\\w',celebrity_name[i].a.string).group(0))\n",
    "    for i in range(actor_num):\n",
    "        actors_list.append(re.search(r'\\w+.*\\w',celebrity_name[i+director_num].a.string).group(0))\n",
    "    return director_list, actors_list"
   ]
  },
  {
   "cell_type": "code",
   "execution_count": 40,
   "id": "afraid-benjamin",
   "metadata": {
    "collapsed": true,
    "jupyter": {
     "outputs_hidden": true
    },
    "tags": []
   },
   "outputs": [
    {
     "data": {
      "text/plain": [
       "(['文牧野'],\n",
       " ['徐峥',\n",
       "  '周一围',\n",
       "  '王传君',\n",
       "  '谭卓',\n",
       "  '章宇',\n",
       "  '杨新鸣',\n",
       "  '王砚辉',\n",
       "  '贾晨飞',\n",
       "  '王佳佳',\n",
       "  '李乃文',\n",
       "  '龚蓓苾',\n",
       "  '苇青',\n",
       "  '邓飞',\n",
       "  '刘頔',\n",
       "  '宁浩',\n",
       "  '岳小军',\n",
       "  '富冠铭',\n",
       "  '巴拉特·巴蒂',\n",
       "  '喜利图',\n",
       "  '张海艳',\n",
       "  '朱耕佑',\n",
       "  '张子贤',\n",
       "  '任洛敏',\n",
       "  '杜子蓝',\n",
       "  '刘兴雷',\n",
       "  '杜家毅',\n",
       "  '宁晓志',\n",
       "  '马千壹',\n",
       "  '石强',\n",
       "  '甘昀宸',\n",
       "  '何李宁',\n",
       "  '陈翃',\n",
       "  '肖龙',\n",
       "  'Chenfei Jia'])"
      ]
     },
     "execution_count": 40,
     "metadata": {},
     "output_type": "execute_result"
    }
   ],
   "source": [
    "#Test\n",
    "getMCelebrity(soup)"
   ]
  },
  {
   "cell_type": "code",
   "execution_count": 31,
   "id": "technological-heritage",
   "metadata": {},
   "outputs": [],
   "source": [
    "def getMRating(soup):\n",
    "    return float(re.search(r'\\d+.*\\d',soup.find(\"div\",class_=\"star-wrapper\").div.get(\"style\")).group(0))/10"
   ]
  },
  {
   "cell_type": "code",
   "execution_count": 42,
   "id": "exact-prefix",
   "metadata": {
    "collapsed": true,
    "jupyter": {
     "outputs_hidden": true
    },
    "tags": []
   },
   "outputs": [
    {
     "data": {
      "text/plain": [
       "9.6"
      ]
     },
     "execution_count": 42,
     "metadata": {},
     "output_type": "execute_result"
    }
   ],
   "source": [
    "#Test\n",
    "getMRating(soup)"
   ]
  },
  {
   "cell_type": "code",
   "execution_count": 32,
   "id": "official-butterfly",
   "metadata": {},
   "outputs": [],
   "source": [
    "def getMIncome(soup):\n",
    "    income_raw = soup.find_all(\"div\",class_=\"film-mbox-item\")\n",
    "    \n",
    "    if len(income_raw) == 0:\n",
    "        income_1week = None\n",
    "        income_all = None\n",
    "    else:\n",
    "        i = len(income_raw)\n",
    "        if income_raw[i-2].div.string == \"暂无\":\n",
    "            income_1week = None\n",
    "        else:\n",
    "            income_1week = int(income_raw[i-2].div.string)\n",
    "\n",
    "        if income_raw[i-1].div.string == \"暂无\":\n",
    "            income_all = None\n",
    "        else:\n",
    "            income_all = int(income_raw[i-1].div.string)\n",
    "        \n",
    "    return income_1week, income_all"
   ]
  },
  {
   "cell_type": "code",
   "execution_count": 93,
   "id": "flying-payroll",
   "metadata": {
    "collapsed": true,
    "jupyter": {
     "outputs_hidden": true
    },
    "tags": []
   },
   "outputs": [
    {
     "name": "stdout",
     "output_type": "stream",
     "text": [
      "(None, 171507)\n",
      "(None, None)\n",
      "(None, 5)\n",
      "(None, None)\n",
      "(123812, 310002)\n"
     ]
    }
   ],
   "source": [
    "#Test\n",
    "print(getMIncome(BeautifulSoup(safeRequest(\"https://www.maoyan.com/films/243\"), 'html.parser')))\n",
    "time.sleep(random.random()*3+5)\n",
    "print(getMIncome(BeautifulSoup(safeRequest(\"https://www.maoyan.com/films/1297\"), 'html.parser')))\n",
    "time.sleep(random.random()*3+5)\n",
    "print(getMIncome(BeautifulSoup(safeRequest(\"https://www.maoyan.com/films/1203\"), 'html.parser')))\n",
    "time.sleep(random.random()*3+5)\n",
    "print(getMIncome(BeautifulSoup(safeRequest(\"https://www.maoyan.com/films/1205\"), 'html.parser')))\n",
    "time.sleep(random.random()*3+5)\n",
    "print(getMIncome(BeautifulSoup(safeRequest(\"https://www.maoyan.com/films/1200486\"), 'html.parser')))"
   ]
  },
  {
   "cell_type": "code",
   "execution_count": 45,
   "id": "metric-notice",
   "metadata": {},
   "outputs": [],
   "source": [
    "def getMData(ranking, url):\n",
    "    name_raw = None\n",
    "    flag = 0\n",
    "    while name_raw==None :\n",
    "        content = safeRequest(url)\n",
    "        soup = BeautifulSoup(content, 'html.parser')\n",
    "        name_raw = getMName(soup)\n",
    "        if flag == 0 and name_raw == None:\n",
    "            print(\"please view the page for verification\",url)\n",
    "            flag = 1\n",
    "            time.sleep(random.random()*3)\n",
    "    name = name_raw.string\n",
    "    mtype = getMType(soup)\n",
    "    duration = getMDuration(soup)\n",
    "    mtime, region = getMTR(soup)\n",
    "    director_list, actors_list = getMCelebrity(soup)\n",
    "    rating = getMRating(soup)\n",
    "    income_1week, income_all = getMIncome(soup)\n",
    "    df.loc[ranking-1] = [ranking,url,name,region,mtime,director_list,actors_list,\n",
    "                         income_1week, income_all,duration,mtype,rating]\n",
    "    print(ranking,name,\"is completed\")"
   ]
  },
  {
   "cell_type": "code",
   "execution_count": 78,
   "id": "pediatric-clarity",
   "metadata": {
    "tags": []
   },
   "outputs": [
    {
     "name": "stdout",
     "output_type": "stream",
     "text": [
      "1 我不是药神 is completed\n"
     ]
    }
   ],
   "source": [
    "#Test\n",
    "np.warnings.filterwarnings('ignore', category=np.VisibleDeprecationWarning)\n",
    "getMData(1,\"https://www.maoyan.com/films/1200486\")"
   ]
  },
  {
   "cell_type": "code",
   "execution_count": 34,
   "id": "intelligent-danish",
   "metadata": {},
   "outputs": [],
   "source": [
    "def getMDataAll(url_list): \n",
    "    ranking = 1\n",
    "    for url in url_list:\n",
    "        getMData(ranking, url)\n",
    "        ranking+=1\n",
    "        time.sleep(random.random()*3)"
   ]
  },
  {
   "cell_type": "code",
   "execution_count": null,
   "id": "worst-ratio",
   "metadata": {
    "tags": []
   },
   "outputs": [],
   "source": [
    "url_list = getMovieURL()\n",
    "print(\"url complete\")\n",
    "getMDataAll(url_list)\n",
    "df.to_csv(\"data.csv\", mode='w', encoding=\"utf_8_sig\", index=None, header=True)"
   ]
  }
 ],
 "metadata": {
  "kernelspec": {
   "display_name": "Python 3",
   "language": "python",
   "name": "python3"
  },
  "language_info": {
   "codemirror_mode": {
    "name": "ipython",
    "version": 3
   },
   "file_extension": ".py",
   "mimetype": "text/x-python",
   "name": "python",
   "nbconvert_exporter": "python",
   "pygments_lexer": "ipython3",
   "version": "3.7.10"
  }
 },
 "nbformat": 4,
 "nbformat_minor": 5
}
